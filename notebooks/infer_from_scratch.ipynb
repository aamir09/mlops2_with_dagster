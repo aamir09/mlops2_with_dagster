{
 "cells": [
  {
   "attachments": {},
   "cell_type": "markdown",
   "id": "823a936a",
   "metadata": {},
   "source": [
    "# Inference from Scratch\n",
    "\n",
    "All in one notebook."
   ]
  },
  {
   "cell_type": "code",
   "execution_count": 1,
   "id": "0df2e66e",
   "metadata": {},
   "outputs": [
    {
     "name": "stderr",
     "output_type": "stream",
     "text": [
      ">>>> project_dir: /Users/rahul/Websites/mlops2_with_dagster\n"
     ]
    }
   ],
   "source": [
    "from mlops2_with_dagster.utils import get_project_dir, printse\n",
    "from pathlib import Path\n",
    "project = 'mlops2_with_dagster'\n",
    "project_dir = get_project_dir(project)\n",
    "printse(f'project_dir: {project_dir}')"
   ]
  },
  {
   "cell_type": "code",
   "execution_count": 2,
   "id": "da79a8cf",
   "metadata": {},
   "outputs": [],
   "source": [
    "import pandas as pd\n",
    "from joblib import dump, load\n",
    "from hamilton import driver, base"
   ]
  },
  {
   "cell_type": "code",
   "execution_count": 3,
   "id": "6020d4cf",
   "metadata": {},
   "outputs": [],
   "source": [
    "from mlops2_with_dagster import features_pipeline, encoder_pipeline, model_pipeline"
   ]
  },
  {
   "cell_type": "code",
   "execution_count": 4,
   "id": "193f4628",
   "metadata": {},
   "outputs": [],
   "source": [
    "index_col = 'passengerid'\n",
    "target_col = \"survived\"\n",
    "config_model = {\n",
    "    'index_column': index_col,\n",
    "    'target_column': target_col,\n",
    "    'random_state': 42,\n",
    "    'max_depth': None,\n",
    "    'validation_size_fraction': 0.33,\n",
    "    't': 0.5\n",
    "}"
   ]
  },
  {
   "cell_type": "markdown",
   "id": "74e201de",
   "metadata": {},
   "source": [
    "## Inference 2: Inference from the very beginning of the data"
   ]
  },
  {
   "cell_type": "code",
   "execution_count": 5,
   "id": "a837b61e",
   "metadata": {},
   "outputs": [],
   "source": [
    "encoder_file: Path = project_dir/\"intermediate_data/encoder.joblib\"\n",
    "data: Path = project_dir/\"data/test.csv\"\n",
    "datatype: str = \"dataset\"\n",
    "model_file: Path = project_dir/\"models/rf.joblib\"\n",
    "infer_type: str = \"dataset\""
   ]
  },
  {
   "cell_type": "code",
   "execution_count": 6,
   "id": "b2c819a0",
   "metadata": {},
   "outputs": [],
   "source": [
    "# parameters\n",
    "df = pd.read_csv(data)\n",
    "encoders = load(encoder_file)\n",
    "datatype: str = \"train\"\n",
    "infer_type: str = \"dataset\"\n",
    "fit_clf = load(model_file)['fit_clf']"
   ]
  },
  {
   "cell_type": "code",
   "execution_count": 7,
   "id": "2beddee8",
   "metadata": {},
   "outputs": [],
   "source": [
    "config_infer2 = {\n",
    "    'index_column': index_col,\n",
    "    'target_column': target_col,\n",
    "    't': 0.5\n",
    "}\n"
   ]
  },
  {
   "cell_type": "code",
   "execution_count": 10,
   "id": "9663619c",
   "metadata": {},
   "outputs": [],
   "source": [
    "infer2_adapter = base.SimplePythonGraphAdapter(base.DictResult())\n",
    "infer2_dr = driver.Driver(config_infer2, \n",
    "                            features_pipeline, model_pipeline, encoder_pipeline,\n",
    "                            adapter = infer2_adapter)\n",
    "dinfer2 = dict(\n",
    "    df = df,\n",
    "    clf = fit_clf,\n",
    "    **encoders['encoders']\n",
    ")\n",
    "\n",
    "infer2_dr.visualize_execution(['chain_predictions'],\n",
    "                                       f\"{project_dir}/artifacts/infer2_{infer_type}_scratch.dot\", \n",
    "                                       {}, \n",
    "                                       inputs = dinfer2\n",
    ")"
   ]
  },
  {
   "cell_type": "code",
   "execution_count": 11,
   "id": "4e03f5ce",
   "metadata": {},
   "outputs": [
    {
     "name": "stdout",
     "output_type": "stream",
     "text": [
      "<class 'pandas.core.frame.DataFrame'>\n"
     ]
    }
   ],
   "source": [
    "infer2dict = infer2_dr.execute(['chain_predictions'],inputs = dinfer2)"
   ]
  },
  {
   "cell_type": "code",
   "execution_count": 12,
   "id": "0a7abfe6",
   "metadata": {},
   "outputs": [
    {
     "data": {
      "text/plain": [
       "{'chain_predictions': (array([0.  , 0.72, 0.93, ..., 0.04, 0.98, 0.81]),\n",
       "  array([0, 1, 1, ..., 0, 1, 1]))}"
      ]
     },
     "execution_count": 12,
     "metadata": {},
     "output_type": "execute_result"
    }
   ],
   "source": [
    "infer2dict"
   ]
  },
  {
   "cell_type": "code",
   "execution_count": 13,
   "id": "09430683",
   "metadata": {},
   "outputs": [
    {
     "data": {
      "text/plain": [
       "['/Users/rahul/Websites/mlops2_with_dagster/results/infer2_dataset.joblib']"
      ]
     },
     "execution_count": 13,
     "metadata": {},
     "output_type": "execute_result"
    }
   ],
   "source": [
    "dump(infer2dict, f\"{project_dir}/results/infer2_{infer_type}.joblib\")"
   ]
  },
  {
   "cell_type": "code",
   "execution_count": 14,
   "id": "93dcfe5a",
   "metadata": {},
   "outputs": [
    {
     "data": {
      "text/plain": [
       "{'chain_predictions': (array([0.  , 0.72, 0.93, ..., 0.04, 0.98, 0.81]),\n",
       "  array([0, 1, 1, ..., 0, 1, 1]))}"
      ]
     },
     "execution_count": 14,
     "metadata": {},
     "output_type": "execute_result"
    }
   ],
   "source": [
    "import dagstermill\n",
    "\n",
    "dagstermill.yield_result(infer2dict, output_name=\"inference_results\")"
   ]
  }
 ],
 "metadata": {
  "kernelspec": {
   "display_name": "ml1-arm64",
   "language": "python",
   "name": "ml1-arm64"
  },
  "language_info": {
   "codemirror_mode": {
    "name": "ipython",
    "version": 3
   },
   "file_extension": ".py",
   "mimetype": "text/x-python",
   "name": "python",
   "nbconvert_exporter": "python",
   "pygments_lexer": "ipython3",
   "version": "3.9.13"
  }
 },
 "nbformat": 4,
 "nbformat_minor": 5
}
