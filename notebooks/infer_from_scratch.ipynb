{
 "cells": [
  {
   "cell_type": "markdown",
   "id": "823a936a",
   "metadata": {},
   "source": [
    "# A Simple Model"
   ]
  },
  {
   "cell_type": "code",
   "execution_count": null,
   "id": "da79a8cf",
   "metadata": {},
   "outputs": [],
   "source": [
    "import pandas as pd\n",
    "from joblib import dump, load\n",
    "from hamilton import driver, base"
   ]
  },
  {
   "cell_type": "code",
   "execution_count": null,
   "id": "a837b61e",
   "metadata": {},
   "outputs": [],
   "source": [
    "# parameters\n",
    "model_file: str = \"models/rf.joblib\"\n",
    "infer_type: str = \"test\"\n",
    "encoder_file: str = \"intermediate_data/encoder.joblib\"\n",
    "data: str = \"data/test.csv\""
   ]
  },
  {
   "cell_type": "code",
   "execution_count": null,
   "id": "193f4628",
   "metadata": {},
   "outputs": [],
   "source": [
    "index_col = 'passengerid'\n",
    "target_col = \"survived\"\n",
    "config_model = {\n",
    "    'index_column': index_col,\n",
    "    'target_column': target_col,\n",
    "    'random_state': 42,\n",
    "    'max_depth': None,\n",
    "    'validation_size_fraction': 0.33,\n",
    "    't': 0.5\n",
    "}"
   ]
  },
  {
   "cell_type": "code",
   "execution_count": null,
   "id": "6020d4cf",
   "metadata": {},
   "outputs": [],
   "source": [
    "from mlops2_with_dagster import features_pipeline, model_pipeline"
   ]
  },
  {
   "cell_type": "code",
   "execution_count": null,
   "id": "df067a74",
   "metadata": {},
   "outputs": [],
   "source": [
    "fit_clf = load(model_file)"
   ]
  },
  {
   "cell_type": "code",
   "execution_count": null,
   "id": "4c6a0bbe",
   "metadata": {},
   "outputs": [],
   "source": [
    "df = pd.read_csv(data)"
   ]
  },
  {
   "cell_type": "code",
   "execution_count": null,
   "id": "e56bec6a",
   "metadata": {},
   "outputs": [],
   "source": [
    "out = load(encoder_file)"
   ]
  },
  {
   "cell_type": "code",
   "execution_count": null,
   "id": "40c40673",
   "metadata": {},
   "outputs": [],
   "source": [
    "inputencoders = {}\n",
    "for k in out['encoders']:\n",
    "    knew = \"\".join(k.split('_'))\n",
    "    inputencoders[knew] = out['encoders'][k]"
   ]
  },
  {
   "cell_type": "markdown",
   "id": "74e201de",
   "metadata": {},
   "source": [
    "## Inference 2: Inference from the very beginning of the data"
   ]
  },
  {
   "cell_type": "code",
   "execution_count": null,
   "id": "2beddee8",
   "metadata": {},
   "outputs": [],
   "source": [
    "config_infer2 = {\n",
    "    'index_column': index_col,\n",
    "    'target_column': target_col,\n",
    "    't': 0.5\n",
    "}\n"
   ]
  },
  {
   "cell_type": "code",
   "execution_count": null,
   "id": "9663619c",
   "metadata": {},
   "outputs": [],
   "source": [
    "infer2_adapter = base.SimplePythonGraphAdapter(base.DictResult())\n",
    "infer2_dr = driver.Driver(config_infer2, \n",
    "                            features_pipeline, model_pipeline,\n",
    "                            adapter = infer2_adapter)\n",
    "dinfer2 = dict(\n",
    "    df = df,\n",
    "    clf = fit_clf,\n",
    "    **inputencoders\n",
    ")\n",
    "\n",
    "infer2_dr.visualize_execution(['chain_predictions'],\n",
    "                                       f\"./artifacts/infer2_{infer_type}.dot\", \n",
    "                                       {}, \n",
    "                                       inputs = dinfer2\n",
    ")"
   ]
  },
  {
   "cell_type": "code",
   "execution_count": null,
   "id": "7c05a75d",
   "metadata": {},
   "outputs": [],
   "source": [
    "from IPython.display import Image, Markdown"
   ]
  },
  {
   "cell_type": "code",
   "execution_count": null,
   "id": "4d8758fc",
   "metadata": {},
   "outputs": [
    {
     "data": {
      "text/markdown": [
       "![](./infer2_test.dot.pdf)"
      ],
      "text/plain": [
       "<IPython.core.display.Markdown object>"
      ]
     },
     "execution_count": null,
     "metadata": {},
     "output_type": "execute_result"
    }
   ],
   "source": [
    "Markdown(f\"![](./infer2_{infer_type}.dot.pdf)\")"
   ]
  },
  {
   "cell_type": "code",
   "execution_count": null,
   "id": "4e03f5ce",
   "metadata": {},
   "outputs": [
    {
     "name": "stdout",
     "output_type": "stream",
     "text": [
      "<class 'pandas.core.frame.DataFrame'>\n"
     ]
    }
   ],
   "source": [
    "infer2dict = infer2_dr.execute(['chain_predictions'],inputs = dinfer2)"
   ]
  },
  {
   "cell_type": "code",
   "execution_count": null,
   "id": "0a7abfe6",
   "metadata": {},
   "outputs": [
    {
     "data": {
      "text/plain": [
       "(array([0.  , 0.53, 0.79, ..., 0.07, 0.92, 0.68]),\n",
       " array([0, 1, 1, ..., 0, 1, 1]))"
      ]
     },
     "execution_count": null,
     "metadata": {},
     "output_type": "execute_result"
    }
   ],
   "source": [
    "infer2dict['chain_predictions']"
   ]
  },
  {
   "cell_type": "code",
   "execution_count": null,
   "id": "09430683",
   "metadata": {},
   "outputs": [
    {
     "data": {
      "text/plain": [
       "['results/infer2_test.joblib']"
      ]
     },
     "execution_count": null,
     "metadata": {},
     "output_type": "execute_result"
    }
   ],
   "source": [
    "dump(infer2dict, f\"results/infer2_{infer_type}.joblib\")"
   ]
  }
 ],
 "metadata": {
  "kernelspec": {
   "display_name": "ml1-arm64",
   "language": "python",
   "name": "ml1-arm64"
  }
 },
 "nbformat": 4,
 "nbformat_minor": 5
}
