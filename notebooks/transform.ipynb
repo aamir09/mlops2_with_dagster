{
 "cells": [
  {
   "attachments": {},
   "cell_type": "markdown",
   "id": "dedbd542",
   "metadata": {},
   "source": [
    "# Making Transformations"
   ]
  },
  {
   "cell_type": "code",
   "execution_count": 2,
   "id": "2fd2fb58",
   "metadata": {},
   "outputs": [
    {
     "name": "stderr",
     "output_type": "stream",
     "text": [
      "/Users/rahul/miniforge3/envs/ml1-arm64/lib/python3.9/site-packages/dagster/_core/utils.py:96: UserWarning: Found version mismatch between `dagster` (1.1.18) expected library version (0.17.18 and `dagstermill` (0.17.13).\n",
      "  warnings.warn(message)\n",
      ">>>> project_dir: /Users/rahul/Websites/mlops2_with_dagster\n"
     ]
    }
   ],
   "source": [
    "from mlops2_with_dagster.utils import get_project_dir, printse\n",
    "from pathlib import Path\n",
    "project = 'mlops2_with_dagster'\n",
    "project_dir = get_project_dir(project)\n",
    "printse(f'project_dir: {project_dir}')"
   ]
  },
  {
   "cell_type": "code",
   "execution_count": 3,
   "id": "e298d367",
   "metadata": {},
   "outputs": [],
   "source": [
    "import pandas as pd\n",
    "from joblib import dump, load\n",
    "from hamilton import driver, base"
   ]
  },
  {
   "cell_type": "code",
   "execution_count": 4,
   "id": "0d9668d4",
   "metadata": {},
   "outputs": [],
   "source": [
    "from mlops2_with_dagster import features_pipeline, encoder_pipeline"
   ]
  },
  {
   "cell_type": "code",
   "execution_count": 5,
   "id": "110cd991",
   "metadata": {},
   "outputs": [],
   "source": [
    "index_col = 'passengerid'\n",
    "target_col = \"survived\"\n",
    "cat_cols = [\"sex\", \"cabin\", \"embarked\"]\n",
    "config = {\n",
    "    'index_column': index_col,\n",
    "    'target_column': target_col,\n",
    "    'categorical_columns': cat_cols\n",
    "}"
   ]
  },
  {
   "cell_type": "markdown",
   "id": "cbf6822e",
   "metadata": {},
   "source": [
    "## Data Transformation Pipeline 2: Use encoders to transform data."
   ]
  },
  {
   "cell_type": "code",
   "execution_count": 10,
   "id": "1e555983",
   "metadata": {
    "tags": []
   },
   "outputs": [],
   "source": [
    "encoder_file: Path = project_dir/\"warehouse/encoders.joblib\"\n",
    "data: Path = project_dir/\"data/train.csv\""
   ]
  },
  {
   "cell_type": "code",
   "execution_count": 11,
   "id": "d11b1cd0",
   "metadata": {
    "tags": [
     "parameters"
    ]
   },
   "outputs": [],
   "source": [
    "# parameters\n",
    "import dagstermill\n",
    "df = pd.read_csv(data)\n",
    "encoders = load(encoder_file)\n",
    "context = dagstermill.get_context(op_config={'datatype': 'xxxx'})\n"
   ]
  },
  {
   "cell_type": "code",
   "execution_count": null,
   "id": "875c1915",
   "metadata": {},
   "outputs": [],
   "source": [
    "# printse(f\"+++++,{context.op_config}\")\n",
    "# datatype:str = context.op_config['datatype']"
   ]
  },
  {
   "cell_type": "markdown",
   "id": "4241b605",
   "metadata": {},
   "source": [
    "### Transform the training set"
   ]
  },
  {
   "cell_type": "code",
   "execution_count": 10,
   "id": "eec0fdd9",
   "metadata": {},
   "outputs": [
    {
     "name": "stderr",
     "output_type": "stream",
     "text": [
      ">>>> dict_keys(['df', 'cabinencoder', 'sexencoder', 'embarkedencoder'])\n"
     ]
    }
   ],
   "source": [
    "transform_dr = driver.Driver(config, encoder_pipeline, features_pipeline)\n",
    "ddf = dict(df = df, **encoders['encoders'])\n",
    "printse(ddf.keys())\n",
    "#print(transform_train_dr.list_available_variables())\n",
    "# transform_dr.visualize_execution(['final_imputed_features'],\n",
    "#                                     f\"./artifacts/trans{datatype}.dot\", \n",
    "#                                     {}, \n",
    "#                                     inputs = ddf\n",
    "# )"
   ]
  },
  {
   "cell_type": "code",
   "execution_count": null,
   "id": "f73ee9f6",
   "metadata": {},
   "outputs": [],
   "source": [
    "# printse(f\"DATATYPE {datatype}\")"
   ]
  },
  {
   "cell_type": "code",
   "execution_count": 11,
   "id": "cdd98cc5",
   "metadata": {},
   "outputs": [
    {
     "name": "stdout",
     "output_type": "stream",
     "text": [
      "<class 'pandas.core.frame.DataFrame'>\n"
     ]
    }
   ],
   "source": [
    "output = transform_dr.execute(['final_imputed_features'], inputs = ddf)"
   ]
  },
  {
   "cell_type": "code",
   "execution_count": 16,
   "id": "148f525a",
   "metadata": {},
   "outputs": [
    {
     "data": {
      "text/plain": [
       "{'final_imputed_features':              pclass    age   fare  cabin_category  sex_category  \\\n",
       " passengerid                                                       \n",
       " 0                 1   0.00  27.14               2             1   \n",
       " 1                 3   0.00  13.35               8             1   \n",
       " 2                 3   0.33  71.29               8             1   \n",
       " 3                 3  19.00  13.04               8             1   \n",
       " 4                 3  25.00   7.76               8             1   \n",
       " ...             ...    ...    ...             ...           ...   \n",
       " 99995             2  62.00  14.86               3             0   \n",
       " 99996             2  66.00  11.15               8             1   \n",
       " 99997             3  37.00   9.95               8             1   \n",
       " 99998             3  51.00  30.92               8             1   \n",
       " 99999             3  55.00  13.96               8             1   \n",
       " \n",
       "              embarked_category  family  \n",
       " passengerid                             \n",
       " 0                            2       2  \n",
       " 1                            2       0  \n",
       " 2                            2       3  \n",
       " 3                            2       0  \n",
       " 4                            2       0  \n",
       " ...                        ...     ...  \n",
       " 99995                        0       0  \n",
       " 99996                        2       0  \n",
       " 99997                        2       0  \n",
       " 99998                        2       1  \n",
       " 99999                        2       0  \n",
       " \n",
       " [100000 rows x 7 columns],\n",
       " 'target': passengerid\n",
       " 0        1\n",
       " 1        0\n",
       " 2        0\n",
       " 3        0\n",
       " 4        1\n",
       "         ..\n",
       " 99995    1\n",
       " 99996    0\n",
       " 99997    0\n",
       " 99998    0\n",
       " 99999    0\n",
       " Name: survived, Length: 100000, dtype: int64,\n",
       " 'output_type': 'train'}"
      ]
     },
     "execution_count": 16,
     "metadata": {},
     "output_type": "execute_result"
    }
   ],
   "source": [
    "import dagstermill\n",
    "\n",
    "dagstermill.yield_result(output, output_name=f\"transformed_data\")"
   ]
  }
 ],
 "metadata": {
  "kernelspec": {
   "display_name": "ml1-arm64",
   "language": "python",
   "name": "ml1-arm64"
  },
  "language_info": {
   "codemirror_mode": {
    "name": "ipython",
    "version": 3
   },
   "file_extension": ".py",
   "mimetype": "text/x-python",
   "name": "python",
   "nbconvert_exporter": "python",
   "pygments_lexer": "ipython3",
   "version": "3.9.13"
  }
 },
 "nbformat": 4,
 "nbformat_minor": 5
}
