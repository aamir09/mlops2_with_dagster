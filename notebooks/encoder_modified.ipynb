{
 "cells": [
  {
   "cell_type": "code",
   "execution_count": 1,
   "metadata": {},
   "outputs": [
    {
     "name": "stdout",
     "output_type": "stream",
     "text": [
      "None\n"
     ]
    },
    {
     "name": "stderr",
     "output_type": "stream",
     "text": [
      "2023-09-15 00:10:01.518432: I tensorflow/tsl/cuda/cudart_stub.cc:28] Could not find cuda drivers on your machine, GPU will not be used.\n",
      "2023-09-15 00:10:01.982912: I tensorflow/tsl/cuda/cudart_stub.cc:28] Could not find cuda drivers on your machine, GPU will not be used.\n",
      "2023-09-15 00:10:01.985855: I tensorflow/core/platform/cpu_feature_guard.cc:182] This TensorFlow binary is optimized to use available CPU instructions in performance-critical operations.\n",
      "To enable the following instructions: AVX2 FMA, in other operations, rebuild TensorFlow with the appropriate compiler flags.\n",
      "2023-09-15 00:10:04,965 - DEBUG - Falling back to TensorFlow client; we recommended you install the Cloud TPU client directly with pip install cloud-tpu-client.\n",
      "2023-09-15 00:10:05.185155: W tensorflow/compiler/tf2tensorrt/utils/py_utils.cc:38] TF-TRT Warning: Could not find TensorRT\n",
      "2023-09-15 00:10:05,327 - DEBUG - Creating converter from 7 to 5\n",
      "2023-09-15 00:10:05,329 - DEBUG - Creating converter from 5 to 7\n",
      "2023-09-15 00:10:05,331 - DEBUG - Creating converter from 7 to 5\n",
      "2023-09-15 00:10:05,333 - DEBUG - Creating converter from 5 to 7\n"
     ]
    }
   ],
   "source": [
    "import sys\n",
    "import os\n",
    "from typing import Tuple\n",
    "import pandas as pd \n",
    "import mlflow as mf\n",
    "\n",
    "## replace with your specific paths\n",
    "sys.path.append(\"/home/aamir07/mlops2_with_dagster/\") \n",
    "ARTIFACT_PATH = \"/home/aamir07/mlops2_with_dagster/artifacts/mlflow_artfacts\" \n",
    "LOGGER_FOLDER_PATH = \"/home/aamir07/mlops2_with_dagster/notebooks\"\n",
    "\n",
    "from mlops2_with_dagster import encoder_pipeline\n",
    "from pathlib import Path\n",
    "from joblib import dump, load\n",
    "from hamilton import driver, base\n",
    "from mlops2_with_dagster.utils import get_project_dir, printse\n",
    "from sklearn.preprocessing import (\n",
    "    StandardScaler,\n",
    "    LabelEncoder\n",
    ")\n",
    "\n",
    "from ortho import BaseKernel\n",
    "from ortho.utils import Logger\n",
    "from ortho.ortho.decorators import task\n",
    "from ortho.ortho.callbacks import MlFlowCallBack, LoggerCallBack\n",
    "\n",
    "\n",
    "logger = Logger().logger()\n",
    "\n",
    "   \n",
    "\n",
    "        \n",
    "        "
   ]
  },
  {
   "cell_type": "code",
   "execution_count": 2,
   "metadata": {},
   "outputs": [
    {
     "name": "stderr",
     "output_type": "stream",
     "text": [
      ">>>> project_dir: /home/aamir07/mlops2_with_dagster\n"
     ]
    }
   ],
   "source": [
    "project = 'mlops2_with_dagster'\n",
    "project_dir = get_project_dir(project)\n",
    "printse(f'project_dir: {project_dir}')"
   ]
  },
  {
   "cell_type": "code",
   "execution_count": 3,
   "metadata": {},
   "outputs": [],
   "source": [
    "class Encoder(BaseKernel):\n",
    "    \n",
    "    \n",
    "    def __init__(self, callbacks,  experiment_name, run_name, load_from_artifact=False):\n",
    "        super().__init__(callbacks,\n",
    "                       experiment_name,\n",
    "                       run_name,\n",
    "                       load_from_artifact)\n",
    "        \n",
    "        self.index_col = 'passengerid'\n",
    "        self.target_col = \"survived\"\n",
    "        self.cat_cols = [\"sex\", \"cabin\", \"embarked\"]\n",
    "        self.config = {\n",
    "            'index_column': self.index_col,\n",
    "            'target_column': self.target_col,\n",
    "            'categorical_columns': self.cat_cols\n",
    "        }\n",
    "    \n",
    "    @task()       \n",
    "    def create_encoders(self, df_train, df_test):\n",
    "        adapter = base.SimplePythonGraphAdapter(base.DictResult())\n",
    "        encode_dr = driver.Driver(self.config, encoder_pipeline, adapter=adapter)\n",
    "        output_nodes = ['encoders']\n",
    "        \n",
    "        out = encode_dr.execute(output_nodes ,\n",
    "        inputs = dict(\n",
    "            df_train = df_train,\n",
    "            df_test = df_test\n",
    "        )         \n",
    "        )\n",
    "        \n",
    "        data = {\"encoders\": out }\n",
    "        payload = {\"params\":self.config,\n",
    "                   \"artifact_path\": ARTIFACT_PATH}\n",
    "        \n",
    "        return data, payload\n",
    "    \n",
    "    def run(self, *args, **kwargs):\n",
    "        \n",
    "        return self.create_encoders(*args, **kwargs)\n",
    "        \n",
    "        \n",
    "    "
   ]
  },
  {
   "cell_type": "code",
   "execution_count": 4,
   "metadata": {},
   "outputs": [],
   "source": [
    "train_data : Path = project_dir/\"data/train.csv\"\n",
    "test_data : Path = project_dir/\"data/test.csv\""
   ]
  },
  {
   "cell_type": "code",
   "execution_count": 5,
   "metadata": {
    "tags": [
     "parameters"
    ]
   },
   "outputs": [],
   "source": [
    "# parameters\n",
    "df_train = pd.read_csv(train_data)\n",
    "df_test = pd.read_csv(test_data)"
   ]
  },
  {
   "cell_type": "code",
   "execution_count": 6,
   "metadata": {},
   "outputs": [
    {
     "name": "stderr",
     "output_type": "stream",
     "text": [
      "2023-09-15 00:10:09,055 - DEBUG - Starting new HTTP connection (1): 127.0.0.1:5002\n",
      "2023-09-15 00:10:09,097 - DEBUG - http://127.0.0.1:5002 \"GET /api/2.0/mlflow/experiments/get-by-name?experiment_name=Mlflow_with_Dagster HTTP/1.1\" 200 241\n",
      "2023-09-15 00:10:09,379 - DEBUG - Popen(['git', 'version'], cwd=/home/aamir07/mlops2_with_dagster/notebooks, universal_newlines=False, shell=None, istream=None)\n",
      "2023-09-15 00:10:09,410 - DEBUG - Popen(['git', 'version'], cwd=/home/aamir07/mlops2_with_dagster/notebooks, universal_newlines=False, shell=None, istream=None)\n",
      "2023-09-15 00:10:09,428 - DEBUG - Resetting dropped connection: 127.0.0.1\n",
      "2023-09-15 00:10:09,495 - DEBUG - http://127.0.0.1:5002 \"POST /api/2.0/mlflow/runs/create HTTP/1.1\" 200 914\n",
      "2023-09-15 00:10:09,499 - INFO - Successfuly initiated run with name BadamBhum and id a05f805113ff42a3b54371547a26d49b\n",
      "2023-09-15 00:10:09,502 - WARNING - Note: Hamilton collects completely anonymous data about usage. This will help us improve Hamilton over time. See https://github.com/dagworks-inc/hamilton#usage-analytics--data-privacy for details.\n",
      "2023-09-15 00:10:09,509 - DEBUG - Computing df_train.\n",
      "2023-09-15 00:10:09,512 - DEBUG - Computing index_column.\n",
      "2023-09-15 00:10:09,513 - DEBUG - Computing input_data_train.\n",
      "2023-09-15 00:10:09,530 - DEBUG - Computing df_test.\n",
      "2023-09-15 00:10:09,532 - DEBUG - Computing input_data_test.\n",
      "2023-09-15 00:10:09,545 - DEBUG - Computing categorical_columns.\n",
      "2023-09-15 00:10:09,546 - DEBUG - Computing combined_categoricals.\n",
      ">>>> Index(['sex', 'cabin', 'embarked'], dtype='object')\n",
      "2023-09-15 00:10:09,578 - DEBUG - Computing combined_cabin.\n",
      "2023-09-15 00:10:09,580 - DEBUG - Computing combined_cabin_t.\n",
      ">>> <class 'pandas.core.series.Series'> 200000 ['C12239' nan nan nan nan nan nan nan 'A7253' 'D2969' nan 'A9055' 'C8674'\n",
      " nan 'D6945' nan nan nan nan 'B7010' nan nan nan nan nan 'B11790' nan\n",
      " 'C20297' nan nan nan nan nan 'B16390' nan nan 'C19277' 'B7665' nan nan\n",
      " 'D6224' nan 'B21244' nan nan nan nan 'D1695' nan nan 'C12615' nan\n",
      " 'D19734' 'C11880' nan nan 'A19055' 'D6286' nan nan nan nan nan 'A6932'\n",
      " nan nan 'C15652' 'B4480' 'C5522' nan 'A19030' nan nan 'D19747' nan nan\n",
      " nan nan nan nan nan nan 'B19226' nan nan nan nan nan nan 'A18210' nan\n",
      " 'B5371' nan nan 'C11610' nan nan 'D7415' nan 'C16097']\n",
      "2023-09-15 00:10:09,629 - DEBUG - Computing cabin_encoder.\n",
      "2023-09-15 00:10:09,641 - DEBUG - Computing combined_sex.\n",
      "2023-09-15 00:10:09,644 - DEBUG - Computing sex_encoder.\n",
      "2023-09-15 00:10:09,656 - DEBUG - Computing combined_embarked.\n",
      "2023-09-15 00:10:09,658 - DEBUG - Computing embarked_encoder.\n",
      "2023-09-15 00:10:09,666 - DEBUG - Computing encoders.\n",
      "2023-09-15 00:10:09,672 - DEBUG - Resetting dropped connection: 127.0.0.1\n",
      "2023-09-15 00:10:09,696 - DEBUG - http://127.0.0.1:5002 \"POST /api/2.0/mlflow/runs/log-batch HTTP/1.1\" 200 2\n",
      "2023-09-15 00:10:09,701 - INFO - Successfuly stored encoders to /home/aamir07/mlops2_with_dagster/artifacts/mlflow_artfacts/encoders.pickle\n",
      "2023-09-15 00:10:09,706 - DEBUG - Resetting dropped connection: 127.0.0.1\n",
      "2023-09-15 00:10:09,749 - DEBUG - http://127.0.0.1:5002 \"GET /api/2.0/mlflow/runs/get?run_uuid=a05f805113ff42a3b54371547a26d49b&run_id=a05f805113ff42a3b54371547a26d49b HTTP/1.1\" 200 1223\n",
      "2023-09-15 00:10:09,761 - DEBUG - Resetting dropped connection: 127.0.0.1\n",
      "2023-09-15 00:10:09,811 - DEBUG - http://127.0.0.1:5002 \"PUT /api/2.0/mlflow-artifacts/artifacts/1/a05f805113ff42a3b54371547a26d49b/artifacts/encoders.pickle HTTP/1.1\" 200 2\n",
      "2023-09-15 00:10:09,815 - DEBUG - Resetting dropped connection: 127.0.0.1\n",
      "2023-09-15 00:10:09,837 - DEBUG - http://127.0.0.1:5002 \"PUT /api/2.0/mlflow-artifacts/artifacts/1/a05f805113ff42a3b54371547a26d49b/artifacts/target.pickle HTTP/1.1\" 200 2\n",
      "2023-09-15 00:10:09,842 - DEBUG - Resetting dropped connection: 127.0.0.1\n",
      "2023-09-15 00:10:09,863 - DEBUG - http://127.0.0.1:5002 \"POST /api/2.0/mlflow/runs/update HTTP/1.1\" 200 424\n"
     ]
    },
    {
     "data": {
      "text/plain": [
       "{'encoders': {'cabinencoder': LabelEncoder(),\n",
       "  'sexencoder': LabelEncoder(),\n",
       "  'embarkedencoder': LabelEncoder()}}"
      ]
     },
     "execution_count": 6,
     "metadata": {},
     "output_type": "execute_result"
    },
    {
     "name": "stderr",
     "output_type": "stream",
     "text": [
      "2023-09-15 00:10:09,928 - DEBUG - Succeed in sending telemetry consisting of [b'{\"api_key\": \"phc_mZg8bkn3yvMxqvZKRlMlxjekFU5DFDdcdAsijJ2EH5e\", \"event\": \"os_hamilton_run_start\", \"properties\": {\"os_type\": \"posix\", \"os_version\": \"Linux-5.15.90.1-microsoft-standard-WSL2-x86_64-with-glibc2.35\", \"python_version\": \"3.10.11/CPython\", \"distinct_id\": \"f41b7308-274c-4333-ab85-eca6fe911802\", \"hamilton_version\": [1, 28, 0], \"telemetry_version\": \"0.0.1\", \"number_of_nodes\": 32, \"number_of_modules\": 1, \"number_of_config_items\": 3, \"decorators_used\": {\"parameterize_sources\": 4, \"extract_columns\": 2, \"extract_fields\": 1}, \"graph_adapter_used\": \"hamilton.base.SimplePythonGraphAdapter\", \"result_builder_used\": \"hamilton.base.DictResult\", \"driver_run_id\": \"a9bcef00-5a5e-471c-93f5-e5db41ce5063\", \"error\": null, \"graph_executor_class\": \"DefaultGraphExecutor\"}}'].\n",
      "2023-09-15 00:10:09,968 - DEBUG - Succeed in sending telemetry consisting of [b'{\"api_key\": \"phc_mZg8bkn3yvMxqvZKRlMlxjekFU5DFDdcdAsijJ2EH5e\", \"event\": \"os_hamilton_run_end\", \"properties\": {\"os_type\": \"posix\", \"os_version\": \"Linux-5.15.90.1-microsoft-standard-WSL2-x86_64-with-glibc2.35\", \"python_version\": \"3.10.11/CPython\", \"distinct_id\": \"f41b7308-274c-4333-ab85-eca6fe911802\", \"hamilton_version\": [1, 28, 0], \"telemetry_version\": \"0.0.1\", \"is_success\": true, \"runtime_seconds\": 0.15917205810546875, \"number_of_outputs\": 1, \"number_of_overrides\": 0, \"number_of_inputs\": 0, \"driver_run_id\": \"a9bcef00-5a5e-471c-93f5-e5db41ce5063\", \"error\": null}}'].\n"
     ]
    }
   ],
   "source": [
    "import dagstermill\n",
    "encoders_object = Encoder(experiment_name=\"Mlflow_with_Dagster\",\n",
    "                          run_name=\"BadamBhum\",\n",
    "                          callbacks = [LoggerCallBack(log_folder=LOGGER_FOLDER_PATH,\n",
    "                                                      kernel_names=[\"create_encoders\"]),\n",
    "                                       MlFlowCallBack(kernel_names=[\"create_encoders\"])])\n",
    "\n",
    "mf.end_run()\n",
    "dagstermill.yield_result(encoders_object.run(df_train=df_train,\n",
    "                                            df_test=df_test)[0][\"encoders\"], output_name=\"encoders\")"
   ]
  },
  {
   "cell_type": "code",
   "execution_count": null,
   "metadata": {},
   "outputs": [],
   "source": []
  }
 ],
 "metadata": {
  "kernelspec": {
   "display_name": "test_with_poetry",
   "language": "python",
   "name": "python3"
  },
  "language_info": {
   "codemirror_mode": {
    "name": "ipython",
    "version": 3
   },
   "file_extension": ".py",
   "mimetype": "text/x-python",
   "name": "python",
   "nbconvert_exporter": "python",
   "pygments_lexer": "ipython3",
   "version": "3.10.11"
  },
  "orig_nbformat": 4
 },
 "nbformat": 4,
 "nbformat_minor": 2
}
