{
 "cells": [
  {
   "cell_type": "code",
   "execution_count": 3,
   "metadata": {},
   "outputs": [],
   "source": [
    "import sys\n",
    "import os\n",
    "from typing import Tuple\n",
    "import pandas as pd \n",
    "import mlflow as mf\n",
    "\n",
    "sys.path.append(\"/home/jupyter-aamir09/mlops2_with_dagster/\")\n",
    "from mlops2_with_dagster import encoder_pipeline\n",
    "from pathlib import Path\n",
    "from joblib import dump, load\n",
    "from hamilton import driver, base\n",
    "from mlops2_with_dagster.utils import get_project_dir, printse\n",
    "from sklearn.preprocessing import (\n",
    "    StandardScaler,\n",
    "    LabelEncoder\n",
    ")\n",
    "\n",
    "from ortho import BaseKernel\n",
    "from ortho.utils import Logger\n",
    "from ortho.ortho.decorators import task\n",
    "from ortho.ortho.callbacks import MlFlowCallBack, LoggerCallBack\n",
    "\n",
    "\n",
    "logger = Logger().logger()\n",
    "\n",
    "   \n",
    "ARTIFACT_PATH = \"/home/jupyter-aamir09/mlops2_with_dagster/artifacts/mlflow_artfacts\"\n",
    "LOGGER_FOLDER_PATH = \"/home/jupyter-aamir09/mlops2_with_dagster/notebooks\"\n",
    "        \n",
    "        "
   ]
  },
  {
   "cell_type": "code",
   "execution_count": 3,
   "metadata": {},
   "outputs": [
    {
     "name": "stderr",
     "output_type": "stream",
     "text": [
      ">>>> project_dir: /home/jupyter-aamir09/mlops2_with_dagster\n"
     ]
    }
   ],
   "source": [
    "project = 'mlops2_with_dagster'\n",
    "project_dir = get_project_dir(project)\n",
    "printse(f'project_dir: {project_dir}')"
   ]
  },
  {
   "cell_type": "code",
   "execution_count": 8,
   "metadata": {},
   "outputs": [],
   "source": [
    "class TargetExtractor(BaseKernel):\n",
    "    \n",
    "    def __init__(self, callbacks,  experiment_name, run_name, load_from_artifact=False):\n",
    "        super().__init__(callbacks,\n",
    "                       experiment_name,\n",
    "                       run_name,\n",
    "                       load_from_artifact)\n",
    "        \n",
    "        self.index_col = 'passengerid'\n",
    "        self.target_col = \"survived\"\n",
    "        self.cat_cols = [\"sex\", \"cabin\", \"embarked\"]\n",
    "        self.config = {\n",
    "            'index_column': self.index_col,\n",
    "            'target_column': self.target_col,\n",
    "            'categorical_columns': self.cat_cols\n",
    "        }\n",
    "    \n",
    "    @task(build_on_previous_run=True, end_mlflow_run=False)       \n",
    "    def get_target(self, df_train):\n",
    "        encode_dr = driver.Driver(self.config, encoder_pipeline)\n",
    "        output_nodes = ['target']\n",
    "        \n",
    "        out = encode_dr.execute(output_nodes ,\n",
    "        inputs = dict(\n",
    "            df_train = df_train\n",
    "        )         \n",
    "        )\n",
    "        \n",
    "        data = {\"target\": out }\n",
    "        payload = {\"artifact_path\": ARTIFACT_PATH}\n",
    "        \n",
    "        return data, payload\n",
    "    \n",
    "    def run(self, *args, **kwargs):\n",
    "        \n",
    "        return self.get_target(*args, **kwargs)\n",
    "        \n",
    "        \n",
    "    "
   ]
  },
  {
   "cell_type": "code",
   "execution_count": 5,
   "metadata": {},
   "outputs": [],
   "source": [
    "train_data : Path = project_dir/\"data/train.csv\"\n",
    "test_data : Path = project_dir/\"data/test.csv\""
   ]
  },
  {
   "cell_type": "code",
   "execution_count": 6,
   "metadata": {
    "tags": [
     "parameters"
    ]
   },
   "outputs": [],
   "source": [
    "# parameters\n",
    "df_train = pd.read_csv(train_data)"
   ]
  },
  {
   "cell_type": "code",
   "execution_count": 9,
   "metadata": {},
   "outputs": [
    {
     "name": "stderr",
     "output_type": "stream",
     "text": [
      "2023-09-13 12:57:39,632 - DEBUG - Starting new HTTP connection (1): 127.0.0.1:5002\n",
      "2023-09-13 12:57:39,881 - DEBUG - http://127.0.0.1:5002 \"GET /api/2.0/mlflow/experiments/get-by-name?experiment_name=Mlflow_with_Dagster HTTP/1.1\" 200 241\n",
      "2023-09-13 12:57:39,886 - DEBUG - Resetting dropped connection: 127.0.0.1\n",
      "2023-09-13 12:57:39,893 - DEBUG - http://127.0.0.1:5002 \"GET /api/2.0/mlflow/runs/get?run_uuid=5724c3c9324b4c2cb39ba5b00576a284&run_id=5724c3c9324b4c2cb39ba5b00576a284 HTTP/1.1\" 200 1576\n",
      "2023-09-13 12:57:39,899 - DEBUG - Resetting dropped connection: 127.0.0.1\n",
      "2023-09-13 12:57:39,914 - DEBUG - http://127.0.0.1:5002 \"POST /api/2.0/mlflow/runs/update HTTP/1.1\" 200 423\n",
      "2023-09-13 12:57:39,916 - DEBUG - Resetting dropped connection: 127.0.0.1\n",
      "2023-09-13 12:57:39,921 - DEBUG - http://127.0.0.1:5002 \"GET /api/2.0/mlflow/runs/get?run_uuid=5724c3c9324b4c2cb39ba5b00576a284&run_id=5724c3c9324b4c2cb39ba5b00576a284 HTTP/1.1\" 200 1575\n",
      "2023-09-13 12:57:39,922 - INFO - Successfuly initiated run with name BadamBhum and id 5724c3c9324b4c2cb39ba5b00576a284\n",
      "2023-09-13 12:57:39,924 - WARNING - Note: Hamilton collects completely anonymous data about usage. This will help us improve Hamilton over time. See https://github.com/dagworks-inc/hamilton#usage-analytics--data-privacy for details.\n",
      "2023-09-13 12:57:39,927 - DEBUG - Computing df_train.\n",
      "2023-09-13 12:57:39,927 - DEBUG - Computing index_column.\n",
      "2023-09-13 12:57:39,927 - DEBUG - Computing input_data_train.\n",
      "2023-09-13 12:57:39,934 - DEBUG - Computing target_column.\n",
      "2023-09-13 12:57:39,935 - DEBUG - Computing target.\n",
      "2023-09-13 12:57:39,935 - DEBUG - Index types encountered:\n",
      "{'Index:::int64': ['target']}.\n",
      "2023-09-13 12:57:39,940 - INFO - Successfuly stored target to /home/jupyter-aamir09/mlops2_with_dagster/artifacts/mlflow_artfacts/target.pickle\n",
      "2023-09-13 12:57:39,947 - DEBUG - Resetting dropped connection: 127.0.0.1\n",
      "2023-09-13 12:57:39,952 - DEBUG - http://127.0.0.1:5002 \"GET /api/2.0/mlflow/runs/get?run_uuid=5724c3c9324b4c2cb39ba5b00576a284&run_id=5724c3c9324b4c2cb39ba5b00576a284 HTTP/1.1\" 200 1575\n",
      "2023-09-13 12:57:39,956 - DEBUG - Resetting dropped connection: 127.0.0.1\n",
      "2023-09-13 12:57:39,964 - DEBUG - http://127.0.0.1:5002 \"PUT /api/2.0/mlflow-artifacts/artifacts/1/5724c3c9324b4c2cb39ba5b00576a284/artifacts/target.pickle HTTP/1.1\" 200 2\n",
      "2023-09-13 12:57:39,966 - DEBUG - Resetting dropped connection: 127.0.0.1\n",
      "2023-09-13 12:57:39,992 - DEBUG - http://127.0.0.1:5002 \"PUT /api/2.0/mlflow-artifacts/artifacts/1/5724c3c9324b4c2cb39ba5b00576a284/artifacts/transformed_data.pickle HTTP/1.1\" 200 2\n",
      "2023-09-13 12:57:39,996 - DEBUG - Resetting dropped connection: 127.0.0.1\n",
      "2023-09-13 12:57:40,180 - DEBUG - Succeed in sending telemetry consisting of [b'{\"api_key\": \"phc_mZg8bkn3yvMxqvZKRlMlxjekFU5DFDdcdAsijJ2EH5e\", \"event\": \"os_hamilton_run_start\", \"properties\": {\"os_type\": \"posix\", \"os_version\": \"Linux-5.4.0-124-generic-x86_64-with-glibc2.31\", \"python_version\": \"3.10.12/CPython\", \"distinct_id\": \"e4e272c1-5845-4b12-8bd8-09d84d585dbc\", \"hamilton_version\": [1, 27, 2], \"telemetry_version\": \"0.0.1\", \"number_of_nodes\": 32, \"number_of_modules\": 1, \"number_of_config_items\": 3, \"decorators_used\": {\"parameterize_sources\": 4, \"extract_columns\": 2, \"extract_fields\": 1}, \"graph_adapter_used\": \"hamilton.base.SimplePythonDataFrameGraphAdapter\", \"result_builder_used\": \"hamilton.base.PandasDataFrameResult\", \"driver_run_id\": \"b1dd9fbd-4c9f-45f4-a03e-1edf912165e2\", \"error\": null, \"graph_executor_class\": \"DefaultGraphExecutor\"}}'].\n",
      "2023-09-13 12:57:40,189 - DEBUG - Succeed in sending telemetry consisting of [b'{\"api_key\": \"phc_mZg8bkn3yvMxqvZKRlMlxjekFU5DFDdcdAsijJ2EH5e\", \"event\": \"os_hamilton_run_end\", \"properties\": {\"os_type\": \"posix\", \"os_version\": \"Linux-5.4.0-124-generic-x86_64-with-glibc2.31\", \"python_version\": \"3.10.12/CPython\", \"distinct_id\": \"e4e272c1-5845-4b12-8bd8-09d84d585dbc\", \"hamilton_version\": [1, 27, 2], \"telemetry_version\": \"0.0.1\", \"is_success\": true, \"runtime_seconds\": 0.009414434432983398, \"number_of_outputs\": 1, \"number_of_overrides\": 0, \"number_of_inputs\": 0, \"driver_run_id\": \"b1dd9fbd-4c9f-45f4-a03e-1edf912165e2\", \"error\": null}}'].\n"
     ]
    },
    {
     "name": "stderr",
     "output_type": "stream",
     "text": [
      "2023-09-13 12:57:40,759 - DEBUG - http://127.0.0.1:5002 \"PUT /api/2.0/mlflow-artifacts/artifacts/1/5724c3c9324b4c2cb39ba5b00576a284/artifacts/training_outputs.pickle HTTP/1.1\" 200 2\n",
      "2023-09-13 12:57:40,763 - DEBUG - Resetting dropped connection: 127.0.0.1\n",
      "2023-09-13 12:57:40,764 - DEBUG - http://127.0.0.1:5002 \"PUT /api/2.0/mlflow-artifacts/artifacts/1/5724c3c9324b4c2cb39ba5b00576a284/artifacts/encoders.pickle HTTP/1.1\" 200 2\n"
     ]
    },
    {
     "data": {
      "text/html": [
       "<div>\n",
       "<style scoped>\n",
       "    .dataframe tbody tr th:only-of-type {\n",
       "        vertical-align: middle;\n",
       "    }\n",
       "\n",
       "    .dataframe tbody tr th {\n",
       "        vertical-align: top;\n",
       "    }\n",
       "\n",
       "    .dataframe thead th {\n",
       "        text-align: right;\n",
       "    }\n",
       "</style>\n",
       "<table border=\"1\" class=\"dataframe\">\n",
       "  <thead>\n",
       "    <tr style=\"text-align: right;\">\n",
       "      <th></th>\n",
       "      <th>target</th>\n",
       "    </tr>\n",
       "    <tr>\n",
       "      <th>passengerid</th>\n",
       "      <th></th>\n",
       "    </tr>\n",
       "  </thead>\n",
       "  <tbody>\n",
       "    <tr>\n",
       "      <th>0</th>\n",
       "      <td>1</td>\n",
       "    </tr>\n",
       "    <tr>\n",
       "      <th>1</th>\n",
       "      <td>0</td>\n",
       "    </tr>\n",
       "    <tr>\n",
       "      <th>2</th>\n",
       "      <td>0</td>\n",
       "    </tr>\n",
       "    <tr>\n",
       "      <th>3</th>\n",
       "      <td>0</td>\n",
       "    </tr>\n",
       "    <tr>\n",
       "      <th>4</th>\n",
       "      <td>1</td>\n",
       "    </tr>\n",
       "    <tr>\n",
       "      <th>...</th>\n",
       "      <td>...</td>\n",
       "    </tr>\n",
       "    <tr>\n",
       "      <th>99995</th>\n",
       "      <td>1</td>\n",
       "    </tr>\n",
       "    <tr>\n",
       "      <th>99996</th>\n",
       "      <td>0</td>\n",
       "    </tr>\n",
       "    <tr>\n",
       "      <th>99997</th>\n",
       "      <td>0</td>\n",
       "    </tr>\n",
       "    <tr>\n",
       "      <th>99998</th>\n",
       "      <td>0</td>\n",
       "    </tr>\n",
       "    <tr>\n",
       "      <th>99999</th>\n",
       "      <td>0</td>\n",
       "    </tr>\n",
       "  </tbody>\n",
       "</table>\n",
       "<p>100000 rows × 1 columns</p>\n",
       "</div>"
      ],
      "text/plain": [
       "             target\n",
       "passengerid        \n",
       "0                 1\n",
       "1                 0\n",
       "2                 0\n",
       "3                 0\n",
       "4                 1\n",
       "...             ...\n",
       "99995             1\n",
       "99996             0\n",
       "99997             0\n",
       "99998             0\n",
       "99999             0\n",
       "\n",
       "[100000 rows x 1 columns]"
      ]
     },
     "execution_count": 9,
     "metadata": {},
     "output_type": "execute_result"
    }
   ],
   "source": [
    "import dagstermill\n",
    "extractor = TargetExtractor(experiment_name=\"Mlflow_with_Dagster\",\n",
    "                          run_name=\"BadamBhum\",\n",
    "                          callbacks = [LoggerCallBack(LOGGER_FOLDER_PATH, kernel_names=[\"get_target\"]),\n",
    "                                       MlFlowCallBack(kernel_names=[\"get_target\"])])\n",
    "\n",
    "# mf.end_run()\n",
    "dagstermill.yield_result(extractor.run(df_train=df_train)[0][\"target\"], output_name=\"target\")"
   ]
  }
 ],
 "metadata": {
  "kernelspec": {
   "display_name": "test_with_poetry",
   "language": "python",
   "name": "python3"
  },
  "language_info": {
   "codemirror_mode": {
    "name": "ipython",
    "version": 3
   },
   "file_extension": ".py",
   "mimetype": "text/x-python",
   "name": "python",
   "nbconvert_exporter": "python",
   "pygments_lexer": "ipython3",
   "version": "3.10.12"
  },
  "orig_nbformat": 4
 },
 "nbformat": 4,
 "nbformat_minor": 2
}
