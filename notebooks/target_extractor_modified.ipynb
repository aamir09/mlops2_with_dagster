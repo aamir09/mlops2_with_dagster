{
 "cells": [
  {
   "cell_type": "code",
   "execution_count": 1,
   "metadata": {},
   "outputs": [
    {
     "name": "stdout",
     "output_type": "stream",
     "text": [
      "None\n"
     ]
    },
    {
     "name": "stderr",
     "output_type": "stream",
     "text": [
      "2023-09-15 00:04:24.088777: I tensorflow/tsl/cuda/cudart_stub.cc:28] Could not find cuda drivers on your machine, GPU will not be used.\n",
      "2023-09-15 00:04:24.198567: I tensorflow/tsl/cuda/cudart_stub.cc:28] Could not find cuda drivers on your machine, GPU will not be used.\n",
      "2023-09-15 00:04:24.201212: I tensorflow/core/platform/cpu_feature_guard.cc:182] This TensorFlow binary is optimized to use available CPU instructions in performance-critical operations.\n",
      "To enable the following instructions: AVX2 FMA, in other operations, rebuild TensorFlow with the appropriate compiler flags.\n",
      "2023-09-15 00:04:26,844 - DEBUG - Falling back to TensorFlow client; we recommended you install the Cloud TPU client directly with pip install cloud-tpu-client.\n",
      "2023-09-15 00:04:27.029518: W tensorflow/compiler/tf2tensorrt/utils/py_utils.cc:38] TF-TRT Warning: Could not find TensorRT\n",
      "2023-09-15 00:04:27,112 - DEBUG - Creating converter from 7 to 5\n",
      "2023-09-15 00:04:27,115 - DEBUG - Creating converter from 5 to 7\n",
      "2023-09-15 00:04:27,118 - DEBUG - Creating converter from 7 to 5\n",
      "2023-09-15 00:04:27,122 - DEBUG - Creating converter from 5 to 7\n"
     ]
    }
   ],
   "source": [
    "import sys\n",
    "import os\n",
    "from typing import Tuple\n",
    "import pandas as pd \n",
    "import mlflow as mf\n",
    "\n",
    "## replace with your specific paths\n",
    "sys.path.append(\"/home/aamir07/mlops2_with_dagster/\") \n",
    "ARTIFACT_PATH = \"/home/aamir07/mlops2_with_dagster/artifacts/mlflow_artfacts\" \n",
    "LOGGER_FOLDER_PATH = \"/home/aamir07/mlops2_with_dagster/notebooks\"\n",
    "\n",
    "from mlops2_with_dagster import encoder_pipeline\n",
    "from pathlib import Path\n",
    "from joblib import dump, load\n",
    "from hamilton import driver, base\n",
    "from mlops2_with_dagster.utils import get_project_dir, printse\n",
    "from sklearn.preprocessing import (\n",
    "    StandardScaler,\n",
    "    LabelEncoder\n",
    ")\n",
    "\n",
    "from ortho import BaseKernel\n",
    "from ortho.utils import Logger\n",
    "from ortho.ortho.decorators import task\n",
    "from ortho.ortho.callbacks import MlFlowCallBack, LoggerCallBack\n",
    "\n",
    "\n",
    "logger = Logger().logger()\n",
    "\n",
    "   \n",
    "\n",
    "        \n",
    "        "
   ]
  },
  {
   "cell_type": "code",
   "execution_count": 2,
   "metadata": {},
   "outputs": [
    {
     "name": "stderr",
     "output_type": "stream",
     "text": [
      ">>>> project_dir: /home/aamir07/mlops2_with_dagster\n"
     ]
    }
   ],
   "source": [
    "project = 'mlops2_with_dagster'\n",
    "project_dir = get_project_dir(project)\n",
    "printse(f'project_dir: {project_dir}')"
   ]
  },
  {
   "cell_type": "code",
   "execution_count": 3,
   "metadata": {},
   "outputs": [],
   "source": [
    "class TargetExtractor(BaseKernel):\n",
    "    \"\"\"\n",
    "    This class is responsible for extracting the target variable from the the the training dataset\n",
    "    \"\"\"\n",
    "    \n",
    "    def __init__(self, callbacks,  experiment_name, run_name, load_from_artifact=False):\n",
    "        super().__init__(callbacks,\n",
    "                       experiment_name,\n",
    "                       run_name,\n",
    "                       load_from_artifact)\n",
    "        \n",
    "        self.index_col = 'passengerid'\n",
    "        self.target_col = \"survived\"\n",
    "        self.cat_cols = [\"sex\", \"cabin\", \"embarked\"]\n",
    "        self.config = {\n",
    "            'index_column': self.index_col,\n",
    "            'target_column': self.target_col,\n",
    "            'categorical_columns': self.cat_cols\n",
    "        }\n",
    "    \n",
    "    @task(build_on_previous_run=False, end_mlflow_run=True)    # This mean that this is an independent run and might have child runs in future  \n",
    "    def get_target(self, df_train):\n",
    "        encode_dr = driver.Driver(self.config, encoder_pipeline)\n",
    "        output_nodes = ['target']\n",
    "        \n",
    "        out = encode_dr.execute(output_nodes ,\n",
    "        inputs = dict(\n",
    "            df_train = df_train\n",
    "        )         \n",
    "        )\n",
    "        \n",
    "        data = {\"target\": out }\n",
    "        payload = {\"artifact_path\": ARTIFACT_PATH}\n",
    "        \n",
    "        return data, payload\n",
    "    \n",
    "    def run(self, *args, **kwargs):\n",
    "        \n",
    "        return self.get_target(*args, **kwargs)\n",
    "        \n",
    "        \n",
    "    "
   ]
  },
  {
   "cell_type": "code",
   "execution_count": 4,
   "metadata": {},
   "outputs": [],
   "source": [
    "train_data : Path = project_dir/\"data/train.csv\"\n",
    "test_data : Path = project_dir/\"data/test.csv\""
   ]
  },
  {
   "cell_type": "code",
   "execution_count": 5,
   "metadata": {
    "tags": [
     "parameters"
    ]
   },
   "outputs": [],
   "source": [
    "# parameters\n",
    "df_train = pd.read_csv(train_data)"
   ]
  },
  {
   "cell_type": "code",
   "execution_count": 6,
   "metadata": {},
   "outputs": [
    {
     "name": "stderr",
     "output_type": "stream",
     "text": [
      "2023-09-15 00:04:29,288 - DEBUG - Starting new HTTP connection (1): 127.0.0.1:5002\n"
     ]
    },
    {
     "name": "stdout",
     "output_type": "stream",
     "text": [
      "File not found: /home/aamir07/dagster_pipeline_2/dagster_pipeline_2/env/dev/.env\n"
     ]
    },
    {
     "name": "stderr",
     "output_type": "stream",
     "text": [
      "2023-09-15 00:04:30,323 - DEBUG - http://127.0.0.1:5002 \"GET /api/2.0/mlflow/experiments/get-by-name?experiment_name=Mlflow_with_Dagster HTTP/1.1\" 200 241\n",
      "2023-09-15 00:04:30,648 - DEBUG - Popen(['git', 'version'], cwd=/home/aamir07/mlops2_with_dagster/notebooks, universal_newlines=False, shell=None, istream=None)\n",
      "2023-09-15 00:04:30,653 - DEBUG - Popen(['git', 'version'], cwd=/home/aamir07/mlops2_with_dagster/notebooks, universal_newlines=False, shell=None, istream=None)\n",
      "2023-09-15 00:04:30,739 - DEBUG - Resetting dropped connection: 127.0.0.1\n",
      "2023-09-15 00:04:30,967 - DEBUG - http://127.0.0.1:5002 \"POST /api/2.0/mlflow/runs/create HTTP/1.1\" 200 894\n",
      "2023-09-15 00:04:30,970 - INFO - Successfuly initiated run with name BadamBhum and id b597418f95f441e3862419c83722087a\n",
      "2023-09-15 00:04:30,974 - WARNING - Note: Hamilton collects completely anonymous data about usage. This will help us improve Hamilton over time. See https://github.com/dagworks-inc/hamilton#usage-analytics--data-privacy for details.\n",
      "2023-09-15 00:04:30,977 - DEBUG - Computing df_train.\n",
      "2023-09-15 00:04:30,978 - DEBUG - Computing index_column.\n",
      "2023-09-15 00:04:30,980 - DEBUG - Computing input_data_train.\n",
      "2023-09-15 00:04:30,992 - DEBUG - Computing target_column.\n",
      "2023-09-15 00:04:30,993 - DEBUG - Computing target.\n",
      "2023-09-15 00:04:30,996 - DEBUG - Index types encountered:\n",
      "{'Index:::int64': ['target']}.\n",
      "2023-09-15 00:04:31,009 - INFO - Successfuly stored target to /home/aamir07/mlops2_with_dagster/artifacts/mlflow_artfacts/target.pickle\n",
      "2023-09-15 00:04:31,019 - DEBUG - Resetting dropped connection: 127.0.0.1\n",
      "2023-09-15 00:04:31,102 - DEBUG - http://127.0.0.1:5002 \"GET /api/2.0/mlflow/runs/get?run_uuid=b597418f95f441e3862419c83722087a&run_id=b597418f95f441e3862419c83722087a HTTP/1.1\" 200 894\n",
      "2023-09-15 00:04:31,121 - DEBUG - Resetting dropped connection: 127.0.0.1\n",
      "2023-09-15 00:04:31,159 - DEBUG - http://127.0.0.1:5002 \"PUT /api/2.0/mlflow-artifacts/artifacts/1/b597418f95f441e3862419c83722087a/artifacts/encoders.pickle HTTP/1.1\" 200 2\n",
      "2023-09-15 00:04:31,164 - DEBUG - Resetting dropped connection: 127.0.0.1\n"
     ]
    },
    {
     "name": "stdout",
     "output_type": "stream",
     "text": [
      "Error saving environment variables: [Errno 2] No such file or directory: '/home/aamir07/dagster_pipeline_2/dagster_pipeline_2/env/dev/.env'\n"
     ]
    },
    {
     "name": "stderr",
     "output_type": "stream",
     "text": [
      "2023-09-15 00:04:31,305 - DEBUG - http://127.0.0.1:5002 \"PUT /api/2.0/mlflow-artifacts/artifacts/1/b597418f95f441e3862419c83722087a/artifacts/target.pickle HTTP/1.1\" 200 2\n",
      "2023-09-15 00:04:31,309 - DEBUG - Resetting dropped connection: 127.0.0.1\n",
      "2023-09-15 00:04:31,340 - DEBUG - Succeed in sending telemetry consisting of [b'{\"api_key\": \"phc_mZg8bkn3yvMxqvZKRlMlxjekFU5DFDdcdAsijJ2EH5e\", \"event\": \"os_hamilton_run_start\", \"properties\": {\"os_type\": \"posix\", \"os_version\": \"Linux-5.15.90.1-microsoft-standard-WSL2-x86_64-with-glibc2.35\", \"python_version\": \"3.10.11/CPython\", \"distinct_id\": \"f41b7308-274c-4333-ab85-eca6fe911802\", \"hamilton_version\": [1, 28, 0], \"telemetry_version\": \"0.0.1\", \"number_of_nodes\": 32, \"number_of_modules\": 1, \"number_of_config_items\": 3, \"decorators_used\": {\"parameterize_sources\": 4, \"extract_columns\": 2, \"extract_fields\": 1}, \"graph_adapter_used\": \"hamilton.base.SimplePythonDataFrameGraphAdapter\", \"result_builder_used\": \"hamilton.base.PandasDataFrameResult\", \"driver_run_id\": \"f37ce1b1-5853-4602-8252-d69ea6d4d6a5\", \"error\": null, \"graph_executor_class\": \"DefaultGraphExecutor\"}}'].\n",
      "2023-09-15 00:04:31,346 - DEBUG - Succeed in sending telemetry consisting of [b'{\"api_key\": \"phc_mZg8bkn3yvMxqvZKRlMlxjekFU5DFDdcdAsijJ2EH5e\", \"event\": \"os_hamilton_run_end\", \"properties\": {\"os_type\": \"posix\", \"os_version\": \"Linux-5.15.90.1-microsoft-standard-WSL2-x86_64-with-glibc2.35\", \"python_version\": \"3.10.11/CPython\", \"distinct_id\": \"f41b7308-274c-4333-ab85-eca6fe911802\", \"hamilton_version\": [1, 28, 0], \"telemetry_version\": \"0.0.1\", \"is_success\": true, \"runtime_seconds\": 0.025815725326538086, \"number_of_outputs\": 1, \"number_of_overrides\": 0, \"number_of_inputs\": 0, \"driver_run_id\": \"f37ce1b1-5853-4602-8252-d69ea6d4d6a5\", \"error\": null}}'].\n",
      "2023-09-15 00:04:31,423 - DEBUG - http://127.0.0.1:5002 \"POST /api/2.0/mlflow/runs/update HTTP/1.1\" 200 414\n"
     ]
    },
    {
     "data": {
      "text/html": [
       "<div>\n",
       "<style scoped>\n",
       "    .dataframe tbody tr th:only-of-type {\n",
       "        vertical-align: middle;\n",
       "    }\n",
       "\n",
       "    .dataframe tbody tr th {\n",
       "        vertical-align: top;\n",
       "    }\n",
       "\n",
       "    .dataframe thead th {\n",
       "        text-align: right;\n",
       "    }\n",
       "</style>\n",
       "<table border=\"1\" class=\"dataframe\">\n",
       "  <thead>\n",
       "    <tr style=\"text-align: right;\">\n",
       "      <th></th>\n",
       "      <th>target</th>\n",
       "    </tr>\n",
       "    <tr>\n",
       "      <th>passengerid</th>\n",
       "      <th></th>\n",
       "    </tr>\n",
       "  </thead>\n",
       "  <tbody>\n",
       "    <tr>\n",
       "      <th>0</th>\n",
       "      <td>1</td>\n",
       "    </tr>\n",
       "    <tr>\n",
       "      <th>1</th>\n",
       "      <td>0</td>\n",
       "    </tr>\n",
       "    <tr>\n",
       "      <th>2</th>\n",
       "      <td>0</td>\n",
       "    </tr>\n",
       "    <tr>\n",
       "      <th>3</th>\n",
       "      <td>0</td>\n",
       "    </tr>\n",
       "    <tr>\n",
       "      <th>4</th>\n",
       "      <td>1</td>\n",
       "    </tr>\n",
       "    <tr>\n",
       "      <th>...</th>\n",
       "      <td>...</td>\n",
       "    </tr>\n",
       "    <tr>\n",
       "      <th>99995</th>\n",
       "      <td>1</td>\n",
       "    </tr>\n",
       "    <tr>\n",
       "      <th>99996</th>\n",
       "      <td>0</td>\n",
       "    </tr>\n",
       "    <tr>\n",
       "      <th>99997</th>\n",
       "      <td>0</td>\n",
       "    </tr>\n",
       "    <tr>\n",
       "      <th>99998</th>\n",
       "      <td>0</td>\n",
       "    </tr>\n",
       "    <tr>\n",
       "      <th>99999</th>\n",
       "      <td>0</td>\n",
       "    </tr>\n",
       "  </tbody>\n",
       "</table>\n",
       "<p>100000 rows × 1 columns</p>\n",
       "</div>"
      ],
      "text/plain": [
       "             target\n",
       "passengerid        \n",
       "0                 1\n",
       "1                 0\n",
       "2                 0\n",
       "3                 0\n",
       "4                 1\n",
       "...             ...\n",
       "99995             1\n",
       "99996             0\n",
       "99997             0\n",
       "99998             0\n",
       "99999             0\n",
       "\n",
       "[100000 rows x 1 columns]"
      ]
     },
     "execution_count": 6,
     "metadata": {},
     "output_type": "execute_result"
    }
   ],
   "source": [
    "import dagstermill\n",
    "extractor = TargetExtractor(experiment_name=\"Mlflow_with_Dagster\",\n",
    "                          run_name=\"BadamBhum\",\n",
    "                          callbacks = [LoggerCallBack(log_folder=LOGGER_FOLDER_PATH, \n",
    "                                                      kernel_names=[\"get_target\"]),\n",
    "                                       MlFlowCallBack(kernel_names=[\"get_target\"])])\n",
    "\n",
    "# If you run into an error and process finishes prematurely use mf.end_run() to end the active mlflow run\n",
    "dagstermill.yield_result(extractor.run(df_train=df_train)[0][\"target\"], output_name=\"target\")"
   ]
  }
 ],
 "metadata": {
  "kernelspec": {
   "display_name": "test_with_poetry",
   "language": "python",
   "name": "python3"
  },
  "language_info": {
   "codemirror_mode": {
    "name": "ipython",
    "version": 3
   },
   "file_extension": ".py",
   "mimetype": "text/x-python",
   "name": "python",
   "nbconvert_exporter": "python",
   "pygments_lexer": "ipython3",
   "version": "3.10.11"
  },
  "orig_nbformat": 4
 },
 "nbformat": 4,
 "nbformat_minor": 2
}
