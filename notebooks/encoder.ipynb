{
 "cells": [
  {
   "attachments": {},
   "cell_type": "markdown",
   "id": "57e99d8e",
   "metadata": {},
   "source": [
    "# Creating Categorical Encoders"
   ]
  },
  {
   "cell_type": "code",
   "execution_count": 3,
   "id": "0f89ecf2",
   "metadata": {},
   "outputs": [
    {
     "name": "stderr",
     "output_type": "stream",
     "text": [
      ">>>> project_dir: /Users/rahul/Websites/mlops2_with_dagster\n"
     ]
    }
   ],
   "source": [
    "from mlops2_with_dagster.utils import get_project_dir, printse\n",
    "project = 'mlops2_with_dagster'\n",
    "project_dir = get_project_dir(project)\n",
    "printse(f'project_dir: {project_dir}')"
   ]
  },
  {
   "cell_type": "code",
   "execution_count": 4,
   "id": "79a75986",
   "metadata": {},
   "outputs": [],
   "source": [
    "import pandas as pd\n",
    "from joblib import dump, load\n",
    "from hamilton import driver, base"
   ]
  },
  {
   "cell_type": "code",
   "execution_count": 5,
   "id": "1aef0e36",
   "metadata": {},
   "outputs": [],
   "source": [
    "from mlops2_with_dagster import encoder_pipeline"
   ]
  },
  {
   "cell_type": "code",
   "execution_count": 6,
   "id": "010876fe",
   "metadata": {},
   "outputs": [],
   "source": [
    "from pathlib import Path\n",
    "train_data : Path = project_dir/\"data/train.csv\"\n",
    "test_data : Path = project_dir/\"data/test.csv\""
   ]
  },
  {
   "cell_type": "code",
   "execution_count": 7,
   "id": "279f57a0",
   "metadata": {
    "tags": [
     "parameters"
    ]
   },
   "outputs": [],
   "source": [
    "# parameters\n",
    "df_train = pd.read_csv(train_data)\n",
    "df_test = pd.read_csv(test_data)"
   ]
  },
  {
   "cell_type": "code",
   "execution_count": 8,
   "id": "463c7d34",
   "metadata": {},
   "outputs": [],
   "source": [
    "index_col = 'passengerid'\n",
    "target_col = \"survived\"\n",
    "cat_cols = [\"sex\", \"cabin\", \"embarked\"]\n",
    "config = {\n",
    "    'index_column': index_col,\n",
    "    'target_column': target_col,\n",
    "    'categorical_columns': cat_cols\n",
    "}"
   ]
  },
  {
   "cell_type": "code",
   "execution_count": 10,
   "id": "620f706e",
   "metadata": {},
   "outputs": [
    {
     "name": "stderr",
     "output_type": "stream",
     "text": [
      ">>>> 1.2.0\n"
     ]
    }
   ],
   "source": [
    "printse(pd.__version__)"
   ]
  },
  {
   "cell_type": "code",
   "execution_count": 11,
   "id": "b2367286",
   "metadata": {},
   "outputs": [],
   "source": [
    "adapter = base.SimplePythonGraphAdapter(base.DictResult())\n",
    "encode_dr = driver.Driver(config, encoder_pipeline, adapter=adapter)\n",
    "output_nodes = ['encoders']\n",
    "# encode_dr.visualize_execution(output_nodes, project_dir/'artifacts/encoder.dot', {}, \n",
    "#     inputs = dict(\n",
    "#         df_train = df_train,\n",
    "#         df_test = df_test\n",
    "#     )                           \n",
    "# )"
   ]
  },
  {
   "cell_type": "code",
   "execution_count": 12,
   "id": "ad50e4a4",
   "metadata": {},
   "outputs": [
    {
     "name": "stderr",
     "output_type": "stream",
     "text": [
      ">>>> Index(['sex', 'cabin', 'embarked'], dtype='object')\n",
      ">>> <class 'pandas.core.series.Series'> 200000 ['C12239' nan nan nan nan nan nan nan 'A7253' 'D2969' nan 'A9055' 'C8674'\n",
      " nan 'D6945' nan nan nan nan 'B7010' nan nan nan nan nan 'B11790' nan\n",
      " 'C20297' nan nan nan nan nan 'B16390' nan nan 'C19277' 'B7665' nan nan\n",
      " 'D6224' nan 'B21244' nan nan nan nan 'D1695' nan nan 'C12615' nan\n",
      " 'D19734' 'C11880' nan nan 'A19055' 'D6286' nan nan nan nan nan 'A6932'\n",
      " nan nan 'C15652' 'B4480' 'C5522' nan 'A19030' nan nan 'D19747' nan nan\n",
      " nan nan nan nan nan nan 'B19226' nan nan nan nan nan nan 'A18210' nan\n",
      " 'B5371' nan nan 'C11610' nan nan 'D7415' nan 'C16097']\n"
     ]
    },
    {
     "data": {
      "text/plain": [
       "{'encoders': {'cabinencoder': LabelEncoder(),\n",
       "  'sexencoder': LabelEncoder(),\n",
       "  'embarkedencoder': LabelEncoder()}}"
      ]
     },
     "execution_count": 12,
     "metadata": {},
     "output_type": "execute_result"
    }
   ],
   "source": [
    "out = encode_dr.execute(['encoders'],\n",
    "        inputs = dict(\n",
    "            df_train = df_train,\n",
    "            df_test = df_test\n",
    "        )         \n",
    ")\n",
    "out"
   ]
  },
  {
   "cell_type": "code",
   "execution_count": 14,
   "id": "9b798596",
   "metadata": {},
   "outputs": [
    {
     "data": {
      "text/plain": [
       "{'encoders': {'cabinencoder': LabelEncoder(),\n",
       "  'sexencoder': LabelEncoder(),\n",
       "  'embarkedencoder': LabelEncoder()}}"
      ]
     },
     "execution_count": 14,
     "metadata": {},
     "output_type": "execute_result"
    }
   ],
   "source": [
    "import dagstermill\n",
    "\n",
    "dagstermill.yield_result(out, output_name=\"encoders\")"
   ]
  }
 ],
 "metadata": {
  "kernelspec": {
   "display_name": "ml1-arm64",
   "language": "python",
   "name": "ml1-arm64"
  },
  "language_info": {
   "codemirror_mode": {
    "name": "ipython",
    "version": 3
   },
   "file_extension": ".py",
   "mimetype": "text/x-python",
   "name": "python",
   "nbconvert_exporter": "python",
   "pygments_lexer": "ipython3",
   "version": "3.9.13 | packaged by conda-forge | (main, May 27 2022, 17:01:00) \n[Clang 13.0.1 ]"
  }
 },
 "nbformat": 4,
 "nbformat_minor": 5
}
