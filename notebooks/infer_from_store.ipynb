{
 "cells": [
  {
   "attachments": {},
   "cell_type": "markdown",
   "id": "ba0bfd3b",
   "metadata": {},
   "source": [
    "# Inference from a feature store"
   ]
  },
  {
   "cell_type": "code",
   "execution_count": 1,
   "id": "05194b17",
   "metadata": {},
   "outputs": [
    {
     "name": "stderr",
     "output_type": "stream",
     "text": [
      ">>>> project_dir: /Users/rahul/Websites/mlops2_with_dagster\n"
     ]
    }
   ],
   "source": [
    "from mlops2_with_dagster.utils import get_project_dir, printse\n",
    "from pathlib import Path\n",
    "project = 'mlops2_with_dagster'\n",
    "project_dir = get_project_dir(project)\n",
    "printse(f'project_dir: {project_dir}')"
   ]
  },
  {
   "cell_type": "code",
   "execution_count": 2,
   "id": "1ec605dc",
   "metadata": {},
   "outputs": [],
   "source": [
    "import pandas as pd\n",
    "from joblib import dump, load\n",
    "from hamilton import driver, base"
   ]
  },
  {
   "cell_type": "code",
   "execution_count": 6,
   "id": "878a9560",
   "metadata": {},
   "outputs": [],
   "source": [
    "model_file: str = f\"{project_dir}/warehouse/rf.joblib\"\n",
    "features_file: str = f\"{project_dir}/warehouse/featurestore_test.pkl\""
   ]
  },
  {
   "cell_type": "code",
   "execution_count": 7,
   "id": "6f37e01d",
   "metadata": {
    "tags": [
     "parameters"
    ]
   },
   "outputs": [],
   "source": [
    "# parameters\n",
    "import dagstermill\n",
    "\n",
    "\n",
    "inference_features = pd.read_pickle(features_file)\n",
    "clfinfo = load(model_file)\n",
    "context = dagstermill.get_context(op_config={'infertype': 'xxxx'})\n"
   ]
  },
  {
   "cell_type": "code",
   "execution_count": null,
   "id": "92ebc916",
   "metadata": {},
   "outputs": [],
   "source": [
    "#infertype: str = context.op_config['infertype']"
   ]
  },
  {
   "cell_type": "code",
   "execution_count": 8,
   "id": "e2ae2743",
   "metadata": {},
   "outputs": [],
   "source": [
    "index_col = 'passengerid'\n",
    "target_col = \"survived\"\n",
    "config_model = {\n",
    "    'index_column': index_col,\n",
    "    'target_column': target_col,\n",
    "    'random_state': 42,\n",
    "    'max_depth': None,\n",
    "    'validation_size_fraction': 0.33,\n",
    "    't': 0.5\n",
    "}"
   ]
  },
  {
   "cell_type": "code",
   "execution_count": 9,
   "id": "44cd1d9d",
   "metadata": {},
   "outputs": [],
   "source": [
    "from mlops2_with_dagster import model_pipeline"
   ]
  },
  {
   "cell_type": "markdown",
   "id": "fe1768fc",
   "metadata": {},
   "source": [
    "## Inference pipeline 1: Inference from an already transformed data, or if you like, from a feature store"
   ]
  },
  {
   "cell_type": "code",
   "execution_count": 10,
   "id": "ae53cc7f",
   "metadata": {},
   "outputs": [],
   "source": [
    "infer1_adapter = base.SimplePythonGraphAdapter(base.DictResult())\n",
    "infer1_dr = driver.Driver(config_model, \n",
    "                            model_pipeline,\n",
    "                            adapter = infer1_adapter)\n",
    "dinfer1 = dict(\n",
    "    X = inference_features,\n",
    "    clf = clfinfo['fit_clf']\n",
    ")\n",
    "\n",
    "# infer1_dr.visualize_execution(['predictions'],\n",
    "#                                        f\"{project_dir}/artifacts/infer1_{infer_type}.dot\", \n",
    "#                                        {}, \n",
    "#                                        inputs = dinfer1\n",
    "# )"
   ]
  },
  {
   "cell_type": "code",
   "execution_count": 11,
   "id": "ec4090f9",
   "metadata": {},
   "outputs": [],
   "source": [
    "infer1dict = infer1_dr.execute(['predictions'],inputs = dinfer1)"
   ]
  },
  {
   "cell_type": "code",
   "execution_count": 12,
   "id": "d1d1aa51",
   "metadata": {},
   "outputs": [
    {
     "data": {
      "text/plain": [
       "{'predictions': (array([0.03, 0.29, 0.82, ..., 0.  , 0.97, 0.83]),\n",
       "  array([0, 0, 1, ..., 0, 1, 1]))}"
      ]
     },
     "execution_count": 12,
     "metadata": {},
     "output_type": "execute_result"
    }
   ],
   "source": [
    "#infer1dict['infertype'] = infertype"
   ]
  },
  {
   "cell_type": "code",
   "execution_count": 15,
   "id": "065c0d22",
   "metadata": {},
   "outputs": [
    {
     "data": {
      "text/plain": [
       "['/Users/rahul/Websites/mlops2_with_dagster/results/infer_test.joblib']"
      ]
     },
     "execution_count": 15,
     "metadata": {},
     "output_type": "execute_result"
    }
   ],
   "source": [
    "# dump(infer1dict, f\"{project_dir}/results/infer_{infertype}.joblib\")"
   ]
  },
  {
   "cell_type": "code",
   "execution_count": 14,
   "id": "8caabc04",
   "metadata": {},
   "outputs": [
    {
     "data": {
      "text/plain": [
       "{'predictions': (array([0.03, 0.29, 0.82, ..., 0.  , 0.97, 0.83]),\n",
       "  array([0, 0, 1, ..., 0, 1, 1]))}"
      ]
     },
     "execution_count": 14,
     "metadata": {},
     "output_type": "execute_result"
    }
   ],
   "source": [
    "import dagstermill\n",
    "\n",
    "dagstermill.yield_result(infer1dict, output_name=\"inference_results\")"
   ]
  }
 ],
 "metadata": {
  "kernelspec": {
   "display_name": "ml1-arm64",
   "language": "python",
   "name": "ml1-arm64"
  },
  "language_info": {
   "codemirror_mode": {
    "name": "ipython",
    "version": 3
   },
   "file_extension": ".py",
   "mimetype": "text/x-python",
   "name": "python",
   "nbconvert_exporter": "python",
   "pygments_lexer": "ipython3",
   "version": "3.9.13 | packaged by conda-forge | (main, May 27 2022, 17:01:00) \n[Clang 13.0.1 ]"
  }
 },
 "nbformat": 4,
 "nbformat_minor": 5
}
