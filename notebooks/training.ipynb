{
 "cells": [
  {
   "attachments": {},
   "cell_type": "markdown",
   "id": "d45f9e7a",
   "metadata": {},
   "source": [
    "# Training the Model"
   ]
  },
  {
   "cell_type": "code",
   "execution_count": 1,
   "id": "40e7a140",
   "metadata": {},
   "outputs": [
    {
     "name": "stderr",
     "output_type": "stream",
     "text": [
      ">>>> project_dir: /Users/rahul/Websites/mlops2_with_dagster\n"
     ]
    }
   ],
   "source": [
    "from mlops2_with_dagster.utils import get_project_dir, printse\n",
    "from pathlib import Path\n",
    "project = 'mlops2_with_dagster'\n",
    "project_dir = get_project_dir(project)\n",
    "printse(f'project_dir: {project_dir}')"
   ]
  },
  {
   "cell_type": "code",
   "execution_count": 2,
   "id": "76f6c117",
   "metadata": {},
   "outputs": [],
   "source": [
    "import pandas as pd\n",
    "from joblib import dump, load\n",
    "from hamilton import driver, base"
   ]
  },
  {
   "cell_type": "code",
   "execution_count": 3,
   "id": "be860be3",
   "metadata": {},
   "outputs": [],
   "source": [
    "index_col = 'passengerid'\n",
    "target_col = \"survived\"\n",
    "cat_cols = [\"sex\", \"cabin\", \"embarked\"]\n",
    "config = {\n",
    "    'index_column': index_col,\n",
    "    'target_column': target_col,\n",
    "    'categorical_columns': cat_cols\n",
    "}"
   ]
  },
  {
   "cell_type": "code",
   "execution_count": 4,
   "id": "7300cc95",
   "metadata": {},
   "outputs": [],
   "source": [
    "train_features_file: str = f\"{project_dir}/warehouse/featurestore_train.parquet\"\n",
    "target_file: str = f\"{project_dir}/warehouse/target.parquet\""
   ]
  },
  {
   "cell_type": "code",
   "execution_count": 5,
   "id": "3d30d6ca",
   "metadata": {
    "tags": [
     "parameters"
    ]
   },
   "outputs": [],
   "source": [
    "# parameters\n",
    "train_features = pd.read_parquet(train_features_file)\n",
    "target = pd.read_parquet(target_file)"
   ]
  },
  {
   "cell_type": "markdown",
   "id": "4fa978f6",
   "metadata": {},
   "source": [
    "## Model Training Pipeline"
   ]
  },
  {
   "cell_type": "code",
   "execution_count": 6,
   "id": "f65d9c72",
   "metadata": {},
   "outputs": [],
   "source": [
    "from mlops2_with_dagster import model_pipeline, features_pipeline"
   ]
  },
  {
   "cell_type": "code",
   "execution_count": 7,
   "id": "7e395b0d",
   "metadata": {},
   "outputs": [],
   "source": [
    "config_model = {\n",
    "    'index_column': index_col,\n",
    "    'target_column': target_col,\n",
    "    'random_state': 42,\n",
    "    'max_depth': None,\n",
    "    'validation_size_fraction': 0.33,\n",
    "    't': 0.5\n",
    "}"
   ]
  },
  {
   "cell_type": "code",
   "execution_count": 9,
   "id": "fa660e81",
   "metadata": {},
   "outputs": [],
   "source": [
    "training_adapter = base.SimplePythonGraphAdapter(base.DictResult())\n",
    "training_dr = driver.Driver(config_model, \n",
    "                           model_pipeline,\n",
    "                           adapter=training_adapter)\n",
    "dtraining = dict(\n",
    "    final_feature_matrix = train_features,\n",
    "    target = target.target\n",
    ")\n",
    "# training_dr.visualize_execution(['fit_clf', 'train_predictions', 'valid_predictions'],\n",
    "#                                        f\"{project_dir}/artifacts/training.dot\",\n",
    "#                                        {}, \n",
    "#                                        inputs = dtraining\n",
    "# )"
   ]
  },
  {
   "cell_type": "markdown",
   "id": "7ae72408",
   "metadata": {},
   "source": [
    "![](./training.dot.pdf)"
   ]
  },
  {
   "cell_type": "code",
   "execution_count": 10,
   "id": "d10f00d6",
   "metadata": {},
   "outputs": [],
   "source": [
    "rfdict = training_dr.execute(['fit_clf', 'train_predictions', 'valid_predictions'], inputs = dtraining)"
   ]
  },
  {
   "cell_type": "code",
   "execution_count": 11,
   "id": "98d69664",
   "metadata": {},
   "outputs": [
    {
     "data": {
      "text/plain": [
       "{'fit_clf': RandomForestClassifier(random_state=42),\n",
       " 'train_predictions': (array([0.4 , 0.98, 0.96, ..., 0.74, 0.84, 0.  ]),\n",
       "  array([0, 1, 1, ..., 1, 1, 0])),\n",
       " 'valid_predictions': (array([0.06, 0.17, 0.  , ..., 0.08, 0.57, 0.05]),\n",
       "  array([0, 0, 0, ..., 0, 1, 0]))}"
      ]
     },
     "execution_count": 11,
     "metadata": {},
     "output_type": "execute_result"
    }
   ],
   "source": [
    "rfdict"
   ]
  },
  {
   "cell_type": "code",
   "execution_count": 12,
   "id": "77edf38e",
   "metadata": {},
   "outputs": [
    {
     "data": {
      "text/plain": [
       "['/Users/rahul/Websites/mlops2_with_dagster/models/rf.joblib']"
      ]
     },
     "execution_count": 12,
     "metadata": {},
     "output_type": "execute_result"
    }
   ],
   "source": [
    "# dump(rfdict, f\"{project_dir}/models/rf.joblib\")"
   ]
  },
  {
   "cell_type": "code",
   "execution_count": 13,
   "id": "dab9de4d",
   "metadata": {},
   "outputs": [
    {
     "data": {
      "text/plain": [
       "{'fit_clf': RandomForestClassifier(random_state=42),\n",
       " 'train_predictions': (array([0.4 , 0.98, 0.96, ..., 0.74, 0.84, 0.  ]),\n",
       "  array([0, 1, 1, ..., 1, 1, 0])),\n",
       " 'valid_predictions': (array([0.06, 0.17, 0.  , ..., 0.08, 0.57, 0.05]),\n",
       "  array([0, 0, 0, ..., 0, 1, 0]))}"
      ]
     },
     "execution_count": 13,
     "metadata": {},
     "output_type": "execute_result"
    }
   ],
   "source": [
    "import dagstermill\n",
    "\n",
    "dagstermill.yield_result(rfdict, output_name=\"training_outputs\")"
   ]
  }
 ],
 "metadata": {
  "kernelspec": {
   "display_name": "ml1-arm64",
   "language": "python",
   "name": "ml1-arm64"
  },
  "language_info": {
   "codemirror_mode": {
    "name": "ipython",
    "version": 3
   },
   "file_extension": ".py",
   "mimetype": "text/x-python",
   "name": "python",
   "nbconvert_exporter": "python",
   "pygments_lexer": "ipython3",
   "version": "3.9.13 | packaged by conda-forge | (main, May 27 2022, 17:01:00) \n[Clang 13.0.1 ]"
  }
 },
 "nbformat": 4,
 "nbformat_minor": 5
}
